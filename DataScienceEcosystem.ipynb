{
 "cells": [
  {
   "cell_type": "markdown",
   "id": "de5f04f6-a271-43dd-99d8-bc5f2075852f",
   "metadata": {},
   "source": [
    "# Data Sciencie Tools Ecosystem"
   ]
  },
  {
   "cell_type": "markdown",
   "id": "5fdca35e-b96c-4e55-be5a-b9911775e146",
   "metadata": {},
   "source": [
    "In this notebook, Data Science Tools and Ecosystem are summarized.\n"
   ]
  },
  {
   "cell_type": "markdown",
   "id": "6cfeb1e0-b6d7-4501-b3e3-707133006d18",
   "metadata": {},
   "source": [
    "**Objectives:**\n",
    "- Python\n",
    "- R\n",
    "- C++"
   ]
  },
  {
   "cell_type": "markdown",
   "id": "0a895098-9d4c-4372-bd86-37dd455bb8f6",
   "metadata": {},
   "source": [
    "Some of the popular languages that Data Scientists use are:\n",
    "1. Python\n",
    "2. R\n",
    "3. Java\n",
    "4. C++\n",
    "5. SAS\r\n"
   ]
  },
  {
   "cell_type": "markdown",
   "id": "c761b15a-bb89-4898-a948-9dddfd50e637",
   "metadata": {},
   "source": [
    "Some of the commonly used libraries used by Data Scientists include:\n",
    "1. Scikit-learn\n",
    "2. Tensorflow\n",
    "3. Caret\n",
    "4. Weka\r\n"
   ]
  },
  {
   "cell_type": "markdown",
   "id": "91389d89-db93-41b1-a0c9-131eee7ae80a",
   "metadata": {},
   "source": [
    "|Data Science Tools| \n",
    "|------:|\n",
    "|Jupyter Notebook|\n",
    "|Rstudio|\n",
    "|IBM Watson Studio|\n",
    "|Apache Zeppelin|"
   ]
  },
  {
   "cell_type": "markdown",
   "id": "991efc98-08f7-4f3d-a0dd-a780c9ab3ea8",
   "metadata": {},
   "source": [
    "### Below are a few examples of evaluating arithmetic expressions in Python:\n",
    "\n",
    "1. Addition (`+`)\n",
    "2. Subtraction('-')\n",
    "3. Multiplication('*')\n",
    "4. Modulo('%')\n",
    "\n",
    "\n"
   ]
  },
  {
   "cell_type": "code",
   "execution_count": 1,
   "id": "a9eb3a4e-bc9c-4493-a80a-2a068cf68711",
   "metadata": {},
   "outputs": [
    {
     "data": {
      "text/plain": [
       "17"
      ]
     },
     "execution_count": 1,
     "metadata": {},
     "output_type": "execute_result"
    }
   ],
   "source": [
    "#This a simple arithmetic expression to mutiply then add integers\n",
    "(3*4)+5"
   ]
  },
  {
   "cell_type": "code",
   "execution_count": 3,
   "id": "d169569b-d150-4347-b5bf-fb8c0943afcb",
   "metadata": {},
   "outputs": [
    {
     "data": {
      "text/plain": [
       "3"
      ]
     },
     "execution_count": 3,
     "metadata": {},
     "output_type": "execute_result"
    }
   ],
   "source": [
    "#This will convert 200 minutes to hours by diving by 60\n",
    "200//60"
   ]
  },
  {
   "cell_type": "markdown",
   "id": "e98b01d5-28c8-409b-ab1b-39bcd80da98f",
   "metadata": {},
   "source": [
    "## Author\n",
    "Calvin Smith"
   ]
  },
  {
   "cell_type": "code",
   "execution_count": null,
   "id": "64df3f3c-c9f4-4011-9641-79ae4e8d044b",
   "metadata": {},
   "outputs": [],
   "source": []
  }
 ],
 "metadata": {
  "kernelspec": {
   "display_name": "Python 3 (ipykernel)",
   "language": "python",
   "name": "python3"
  },
  "language_info": {
   "codemirror_mode": {
    "name": "ipython",
    "version": 3
   },
   "file_extension": ".py",
   "mimetype": "text/x-python",
   "name": "python",
   "nbconvert_exporter": "python",
   "pygments_lexer": "ipython3",
   "version": "3.11.7"
  }
 },
 "nbformat": 4,
 "nbformat_minor": 5
}
